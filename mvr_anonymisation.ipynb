{
 "cells": [
  {
   "cell_type": "markdown",
   "metadata": {
    "application/vnd.databricks.v1+cell": {
     "cellMetadata": {},
     "inputWidgets": {},
     "nuid": "af474498-8737-4a28-b9ae-ae69c9efb80f",
     "showTitle": false,
     "title": ""
    },
    "tags": []
   },
   "source": [
    "### Step-by-step anonymisation of MVR data"
   ]
  },
  {
   "cell_type": "markdown",
   "metadata": {
    "application/vnd.databricks.v1+cell": {
     "cellMetadata": {},
     "inputWidgets": {},
     "nuid": "3bd62326-0655-419f-aa70-7f81cd31a32b",
     "showTitle": false,
     "title": ""
    }
   },
   "source": [
    "#### TODOS:\n",
    "\n",
    "- Hash number plate, look at: https://towardsdatascience.com/anonymise-sensitive-data-in-a-pandas-dataframe-column-with-hashlib-8e7ef397d91f\n",
    "- Apply k-anonymity (e.g., Mondrian) to selected columns, such as Age, Year, or\n",
    "- Put Age into pre-defined groups, eg., 0-14, 15-24, 25 - 44, 45-64, 65+\n",
    "- Apply Faker on names\n",
    "- Create an abstract ColumnAnonymiser class, takes column data type, and target policy as inputs. Implement AgeAnonymiser, NZNumberPlateAnonymiser"
   ]
  },
  {
   "cell_type": "code",
   "execution_count": 0,
   "metadata": {
    "application/vnd.databricks.v1+cell": {
     "cellMetadata": {},
     "inputWidgets": {},
     "nuid": "d11a26e2-1f38-465b-9556-b40619bd45d2",
     "showTitle": false,
     "title": ""
    }
   },
   "outputs": [],
   "source": []
  },
  {
   "cell_type": "code",
   "execution_count": 0,
   "metadata": {
    "application/vnd.databricks.v1+cell": {
     "cellMetadata": {},
     "inputWidgets": {},
     "nuid": "79db4937-0af0-4fb3-bfd9-cb9173838af2",
     "showTitle": false,
     "title": ""
    },
    "tags": []
   },
   "outputs": [],
   "source": [
    "import pandas as pd\n",
    "import csv\n",
    "import re\n",
    "\n",
    "from collections import defaultdict"
   ]
  },
  {
   "cell_type": "code",
   "execution_count": 0,
   "metadata": {
    "application/vnd.databricks.v1+cell": {
     "cellMetadata": {},
     "inputWidgets": {},
     "nuid": "ce5db577-fce2-47e8-a6c3-2d7e78a12431",
     "showTitle": false,
     "title": ""
    },
    "tags": []
   },
   "outputs": [],
   "source": [
    "df = pd.read_csv('mvr_synthetic_data.csv')"
   ]
  },
  {
   "cell_type": "code",
   "execution_count": 0,
   "metadata": {
    "application/vnd.databricks.v1+cell": {
     "cellMetadata": {},
     "inputWidgets": {},
     "nuid": "5ac09819-7ca5-477c-9988-8704aeb997ee",
     "showTitle": false,
     "title": ""
    },
    "tags": []
   },
   "outputs": [],
   "source": [
    "df.head()"
   ]
  },
  {
   "cell_type": "code",
   "execution_count": 0,
   "metadata": {
    "application/vnd.databricks.v1+cell": {
     "cellMetadata": {},
     "inputWidgets": {},
     "nuid": "24aa6c91-e715-42b0-a5c8-e6271acd0414",
     "showTitle": false,
     "title": ""
    },
    "tags": []
   },
   "outputs": [],
   "source": [
    "def anonymise_car_number_plates(text):\n",
    "    def replace_alphabets_numbers(match):\n",
    "        plate = match.group()\n",
    "        anonymized_plate = re.sub(r'[A-Za-z]', 'X', plate)\n",
    "        anonymized_plate = re.sub(r'\\d', '0', anonymized_plate)\n",
    "        return anonymized_plate\n",
    "\n",
    "    # Define the regular expression pattern to match car number plates\n",
    "    number_plate_pattern = r'\\b[A-Za-z]{3}-\\d{4}\\b'\n",
    "\n",
    "    # Replace all occurrences of number plates with the anonymized string\n",
    "    anonymized_text = re.sub(number_plate_pattern, replace_alphabets_numbers, text)\n",
    "\n",
    "    return anonymized_text\n",
    "\n",
    "# Example usage\n",
    "text = \"ABC-1234\"\n",
    "anonymized_text = anonymise_car_number_plates(text)\n",
    "print(anonymized_text)"
   ]
  },
  {
   "cell_type": "code",
   "execution_count": 0,
   "metadata": {
    "application/vnd.databricks.v1+cell": {
     "cellMetadata": {},
     "inputWidgets": {},
     "nuid": "d70421ac-2bb0-4730-bbe3-013965d53b93",
     "showTitle": false,
     "title": ""
    }
   },
   "outputs": [],
   "source": []
  },
  {
   "cell_type": "code",
   "execution_count": 0,
   "metadata": {
    "application/vnd.databricks.v1+cell": {
     "cellMetadata": {},
     "inputWidgets": {},
     "nuid": "77dd4e03-b708-4f67-9f15-4a1f578bb6be",
     "showTitle": false,
     "title": ""
    },
    "tags": []
   },
   "outputs": [],
   "source": [
    "df['anonymised_NumberPlate'] = df['NumberPlate'].apply(lambda x: anonymise_car_number_plates(x))"
   ]
  },
  {
   "cell_type": "code",
   "execution_count": 0,
   "metadata": {
    "application/vnd.databricks.v1+cell": {
     "cellMetadata": {},
     "inputWidgets": {},
     "nuid": "d98b66a1-8cda-41bd-99bd-432840eed997",
     "showTitle": false,
     "title": ""
    },
    "tags": []
   },
   "outputs": [],
   "source": [
    "df.head()"
   ]
  },
  {
   "cell_type": "code",
   "execution_count": 0,
   "metadata": {
    "application/vnd.databricks.v1+cell": {
     "cellMetadata": {},
     "inputWidgets": {},
     "nuid": "373ae0ca-e134-4f80-9585-4894f43daced",
     "showTitle": false,
     "title": ""
    }
   },
   "outputs": [],
   "source": [
    "## use faker_vehicle to anonymise number plate\n",
    "from faker import Faker\n",
    "from faker_vehicle import VehicleProvider\n",
    "\n",
    "# Anonymise the NumberPlate column\n",
    "df['NumberPlateFaked'] = df['NumberPlate'].apply(lambda x: vehicle_provider.numerify('???-####'))\n",
    "\n",
    "df.head()"
   ]
  },
  {
   "cell_type": "code",
   "execution_count": 0,
   "metadata": {
    "application/vnd.databricks.v1+cell": {
     "cellMetadata": {},
     "inputWidgets": {},
     "nuid": "71e925bd-314e-44d0-b7f5-c13a5c82e1db",
     "showTitle": false,
     "title": ""
    },
    "tags": []
   },
   "outputs": [],
   "source": [
    "def compute_equivalence_classes(df, quasi_identifiers):\n",
    "    eq_classes = defaultdict(int)\n",
    "    \n",
    "    for index, row in df.iterrows():\n",
    "        key = tuple(row[qi] for qi in quasi_identifiers)\n",
    "        eq_classes[key] += 1\n",
    "    \n",
    "    return eq_classes\n",
    "\n",
    "def is_k_anonymous(dataset, quasi_identifiers, k):\n",
    "    eq_classes = compute_equivalence_classes(dataset, quasi_identifiers)\n",
    "    \n",
    "    for count in eq_classes.values():\n",
    "        if count < k:\n",
    "            return False\n",
    "            \n",
    "    return True"
   ]
  },
  {
   "cell_type": "code",
   "execution_count": 0,
   "metadata": {
    "application/vnd.databricks.v1+cell": {
     "cellMetadata": {},
     "inputWidgets": {},
     "nuid": "d93b598e-39ca-4f78-a90f-80f99bf4a9e0",
     "showTitle": false,
     "title": ""
    }
   },
   "outputs": [],
   "source": []
  },
  {
   "cell_type": "code",
   "execution_count": 0,
   "metadata": {
    "application/vnd.databricks.v1+cell": {
     "cellMetadata": {},
     "inputWidgets": {},
     "nuid": "ec339138-286c-4dbb-8ca4-8baeee7e5318",
     "showTitle": false,
     "title": ""
    },
    "tags": []
   },
   "outputs": [],
   "source": [
    "# Define the list of quasi-identifiers\n",
    "# quasi_identifiers = ['CarMake', 'CarModel', 'Year']\n",
    "\n",
    "# quasi_identifiers = ['anonymised_NumberPlate']\n",
    "\n",
    "# quasi_identifiers = ['Age', 'Gender']\n",
    "\n",
    "quasi_identifiers = ['Gender', 'anonymised_NumberPlate']\n",
    "\n",
    "\n",
    "# Define the k value\n",
    "k = 3\n",
    "\n",
    "# Check if the dataset is k-anonymous\n",
    "k_anonymous = is_k_anonymous(df, quasi_identifiers, k)\n",
    "print(f\"The dataset is {k}-anonymous: {k_anonymous}\")"
   ]
  },
  {
   "cell_type": "code",
   "execution_count": 0,
   "metadata": {
    "application/vnd.databricks.v1+cell": {
     "cellMetadata": {},
     "inputWidgets": {},
     "nuid": "acd26401-1f8a-435e-8aaa-7c4baf58987d",
     "showTitle": false,
     "title": ""
    }
   },
   "outputs": [],
   "source": []
  },
  {
   "cell_type": "markdown",
   "metadata": {
    "application/vnd.databricks.v1+cell": {
     "cellMetadata": {},
     "inputWidgets": {},
     "nuid": "91ef588f-4afa-41fe-972e-45833c18a383",
     "showTitle": false,
     "title": ""
    }
   },
   "source": [
    "### 2. Apply k-anonymity (e.g., Mondrian) to selected columns, such as Age, Year, or"
   ]
  },
  {
   "cell_type": "code",
   "execution_count": 0,
   "metadata": {
    "application/vnd.databricks.v1+cell": {
     "cellMetadata": {},
     "inputWidgets": {},
     "nuid": "c1ec9fa6-1e27-4ee3-bfae-c9112d94b552",
     "showTitle": false,
     "title": ""
    }
   },
   "outputs": [],
   "source": [
    "# Define the list of quasi-identifiers\n",
    "quasi_identifiers = [\n",
    "    ['CarMake', 'CarModel', 'Year'],\n",
    "    ['anonymised_NumberPlate'],\n",
    "    ['Age', 'Gender'],\n",
    "    ['Gender', 'anonymised_NumberPlate']\n",
    "]\n",
    "\n",
    "# Apply is_k_anonymous to each element in the big list\n",
    "k = 3  # Specify the desired k value for k-anonymity\n",
    "for qi in quasi_identifiers:\n",
    "    is_k = is_k_anonymous(df, qi, k)\n",
    "    print(f\"{qi} is k-anonymous: {is_k}\")"
   ]
  },
  {
   "cell_type": "code",
   "execution_count": 0,
   "metadata": {
    "application/vnd.databricks.v1+cell": {
     "cellMetadata": {},
     "inputWidgets": {},
     "nuid": "d32be271-1448-49cd-a3a1-800424ade883",
     "showTitle": false,
     "title": ""
    }
   },
   "outputs": [],
   "source": []
  },
  {
   "cell_type": "markdown",
   "metadata": {
    "application/vnd.databricks.v1+cell": {
     "cellMetadata": {},
     "inputWidgets": {},
     "nuid": "bf4beb07-d722-4120-ab4d-0ae8da59b492",
     "showTitle": false,
     "title": ""
    }
   },
   "source": [
    "### 3. Put Age into pre-defined groups, eg., 0-14, 15-24, 25 - 44, 45-64, 65+"
   ]
  },
  {
   "cell_type": "code",
   "execution_count": 0,
   "metadata": {
    "application/vnd.databricks.v1+cell": {
     "cellMetadata": {},
     "inputWidgets": {},
     "nuid": "55a56711-d67e-4651-9c57-d169c7ea6a42",
     "showTitle": false,
     "title": ""
    }
   },
   "outputs": [],
   "source": [
    "# Define age groups\n",
    "age_groups = {\n",
    "    '0-14': range(0, 15),\n",
    "    '15-24': range(15, 25),\n",
    "    '25-44': range(25, 45),\n",
    "    '45-64': range(45, 65),\n",
    "    '65+': range(65, 110)\n",
    "}\n",
    "\n",
    "# Define a function to map age to age group\n",
    "def map_age_to_group(age):\n",
    "    for group, age_range in age_groups.items():\n",
    "        if age in age_range:\n",
    "            return group\n",
    "    return None  # Return None if age is not in any of the defined age groups\n",
    "\n",
    "# Apply the age grouping function to the Age column\n",
    "df['AgeGroup'] = df['Age'].apply(map_age_to_group)\n",
    "df.head()"
   ]
  },
  {
   "cell_type": "code",
   "execution_count": 0,
   "metadata": {
    "application/vnd.databricks.v1+cell": {
     "cellMetadata": {},
     "inputWidgets": {},
     "nuid": "04cbe94d-74a4-4128-bf6f-203a8058bfb3",
     "showTitle": false,
     "title": ""
    }
   },
   "outputs": [],
   "source": []
  },
  {
   "cell_type": "markdown",
   "metadata": {
    "application/vnd.databricks.v1+cell": {
     "cellMetadata": {},
     "inputWidgets": {},
     "nuid": "c0bacd13-166e-4542-8d43-8fa216cb7fd7",
     "showTitle": false,
     "title": ""
    }
   },
   "source": [
    "### 3. Apply Faker on names"
   ]
  },
  {
   "cell_type": "code",
   "execution_count": 0,
   "metadata": {
    "application/vnd.databricks.v1+cell": {
     "cellMetadata": {},
     "inputWidgets": {},
     "nuid": "6adc402f-8da5-4f8c-ab70-13074841c7ad",
     "showTitle": false,
     "title": ""
    }
   },
   "outputs": [],
   "source": [
    "from faker import Faker\n",
    "# to create and initialize a faker generator, which can generate data by \n",
    "# accessing properties named after the type of data you want.\n",
    "fake = Faker()\n",
    "\n",
    "# Apply the fake name generator to the Name column\n",
    "df['NameFaked'] = df['Name'].apply(lambda x: fake.name())\n",
    "df.head()"
   ]
  },
  {
   "cell_type": "code",
   "execution_count": 0,
   "metadata": {
    "application/vnd.databricks.v1+cell": {
     "cellMetadata": {},
     "inputWidgets": {},
     "nuid": "3b93176d-67e7-46f2-bc95-a35f89d9a29b",
     "showTitle": false,
     "title": ""
    }
   },
   "outputs": [],
   "source": []
  },
  {
   "cell_type": "markdown",
   "metadata": {
    "application/vnd.databricks.v1+cell": {
     "cellMetadata": {},
     "inputWidgets": {},
     "nuid": "9ef8e1c3-f948-42b1-a3e4-1a5d112b387f",
     "showTitle": false,
     "title": ""
    }
   },
   "source": [
    "### 4. Create an abstract ColumnAnonymiser class, takes column data type, and target policy as inputs. Implement AgeAnonymiser, NZNumberPlateAnonymiser"
   ]
  },
  {
   "cell_type": "code",
   "execution_count": 0,
   "metadata": {
    "application/vnd.databricks.v1+cell": {
     "cellMetadata": {},
     "inputWidgets": {},
     "nuid": "8c97da74-6ea6-4c90-b1b4-58df907484be",
     "showTitle": false,
     "title": ""
    }
   },
   "outputs": [],
   "source": [
    "from abc import ABC, abstractmethod\n",
    "\n",
    "class ColumnAnonymiser(ABC):\n",
    "    def __init__(self, column_data_type, target_policy):\n",
    "        self.column_data_type = column_data_type\n",
    "        self.target_policy = target_policy\n",
    "\n",
    "    @abstractmethod\n",
    "    def anonymise(self, column_data):\n",
    "        pass\n",
    "\n",
    "class AgeAnonymiser(ColumnAnonymiser):\n",
    "    def anonymise(self, column_data):\n",
    "        # Implement age anonymisation logic according to the target policy\n",
    "        if self.target_policy == 'age_group':\n",
    "            age_groups = {'0-14': range(0, 15), '15-24': range(15, 25), '25-44': range(25, 45), '45-64': range(45, 65), '65+': range(65, 200)}\n",
    "            age_group_map = {age_range: age_group for age_group, age_ranges in age_groups.items() for age_range in age_ranges}\n",
    "            return column_data.apply(lambda x: age_group_map.get(x // 10 * 10, 'Unknown'))\n",
    "        else:\n",
    "            return column_data\n",
    "\n",
    "class NZNumberPlateAnonymiser(ColumnAnonymiser):\n",
    "    def anonymise(self, column_data):\n",
    "        # Implement New Zealand number plate anonymisation logic according to the target policy\n",
    "        if self.target_policy == 'faker_vehicle_number_plate':\n",
    "            return column_data.apply(lambda x: f'XXX-{str(x)[-3:]}') # anonymises by replacing the last three digits with XXX\n",
    "        \n",
    "        else:\n",
    "            return column_data\n"
   ]
  },
  {
   "cell_type": "code",
   "execution_count": 0,
   "metadata": {
    "application/vnd.databricks.v1+cell": {
     "cellMetadata": {},
     "inputWidgets": {},
     "nuid": "ad331265-51da-4fe7-b549-191b3763aa6f",
     "showTitle": false,
     "title": ""
    }
   },
   "outputs": [],
   "source": [
    "import pandas as pd\n",
    "from faker import Faker\n",
    "from faker_vehicle import VehicleProvider\n",
    "\n",
    "# new df \n",
    "df = pd.read_csv('mvr_synthetic_data.csv')\n",
    "\n",
    "# Create a fake dataframe\n",
    "fake = Faker()\n",
    "vehicle_provider = VehicleProvider(fake)\n",
    "\n",
    "# Anonymise the Age and NumberPlate columns\n",
    "age_anonymiser = AgeAnonymiser(column_data_type='age', target_policy='age_group')\n",
    "df['Age'] = age_anonymiser.anonymise(df['Age'])\n",
    "\n",
    "number_plate_anonymiser = NZNumberPlateAnonymiser(column_data_type='number_plate', target_policy='last_three_digits')\n",
    "df['NumberPlate'] = number_plate_anonymiser.anonymise(df['NumberPlate'])\n",
    "\n",
    "df.head()\n"
   ]
  },
  {
   "cell_type": "code",
   "execution_count": 0,
   "metadata": {
    "application/vnd.databricks.v1+cell": {
     "cellMetadata": {},
     "inputWidgets": {},
     "nuid": "c069d9be-407e-4a1e-b68e-445b22c068f6",
     "showTitle": false,
     "title": ""
    }
   },
   "outputs": [],
   "source": []
  },
  {
   "cell_type": "markdown",
   "metadata": {
    "application/vnd.databricks.v1+cell": {
     "cellMetadata": {},
     "inputWidgets": {},
     "nuid": "4526975a-576c-424d-b826-73a5d48364b4",
     "showTitle": false,
     "title": ""
    }
   },
   "source": [
    "# Mondrian algorithm"
   ]
  },
  {
   "cell_type": "code",
   "execution_count": 0,
   "metadata": {
    "application/vnd.databricks.v1+cell": {
     "cellMetadata": {},
     "inputWidgets": {},
     "nuid": "1ebe91a5-fc84-45ba-8064-c4c901089467",
     "showTitle": false,
     "title": ""
    }
   },
   "outputs": [],
   "source": [
    "import pandas as pd\n",
    "import numpy as np\n",
    "\n",
    "class Mondrian:\n",
    "\n",
    "    def __init__(self, data, k, categorical_cols):\n",
    "        self.data = data\n",
    "        self.k = k\n",
    "        self.categorical_cols = categorical_cols\n",
    "\n",
    "    def get_split_val(self, data, column):\n",
    "        if column in self.categorical_cols:\n",
    "            return data[column].value_counts().idxmax()\n",
    "        else:\n",
    "            return data[column].median()\n",
    "\n",
    "    def partition(self, data):\n",
    "        if len(data) < self.k:\n",
    "            return [data]\n",
    "\n",
    "        # Calculate the range of each column to find the one with the largest range\n",
    "        ranges = data.select_dtypes(include=[np.number]).max() - data.select_dtypes(include=[np.number]).min()\n",
    "        split_column = ranges.idxmax()\n",
    "\n",
    "        # Find split value and create partitions\n",
    "        split_val = self.get_split_val(data, split_column)\n",
    "        data_low = data[data[split_column] <= split_val]\n",
    "        data_high = data[data[split_column] > split_val]\n",
    "\n",
    "        # If partitioning this way does not respect the minimum \"k\" condition, return the original data\n",
    "        if len(data_low) < self.k or len(data_high) < self.k:\n",
    "            return [data]\n",
    "\n",
    "        return self.partition(data_low) + self.partition(data_high)\n",
    "\n",
    "    def anonymize(self):\n",
    "        partitions = self.partition(self.data)\n",
    "        for i in range(len(partitions)):\n",
    "            for col in partitions[i].columns:\n",
    "                if col in self.categorical_cols:\n",
    "                    partitions[i][col] = \"[\" + ', '.join(partitions[i][col].unique().astype(str)) + \"]\"\n",
    "                else:\n",
    "                    partitions[i][col] = \"[{}, {}]\".format(partitions[i][col].min(), partitions[i][col].max())\n",
    "        return pd.concat(partitions)\n",
    "\n",
    "# Test with a small dataset\n",
    "data = pd.DataFrame({\n",
    "    'age': [23, 25, 27, 29, 31, 33, 35, 37, 39, 41],\n",
    "    'salary': [50, 60, 70, 80, 90, 100, 110, 120, 130, 140],\n",
    "    'gender': ['M', 'F', 'M', 'M', 'F', 'F', 'M', 'F', 'M', 'F']\n",
    "})\n",
    "\n",
    "mondrian = Mondrian(data, k=2, categorical_cols=['gender'])\n",
    "anonymized_data = mondrian.anonymize()\n",
    "print(anonymized_data)"
   ]
  },
  {
   "cell_type": "code",
   "execution_count": 0,
   "metadata": {
    "application/vnd.databricks.v1+cell": {
     "cellMetadata": {},
     "inputWidgets": {},
     "nuid": "b7f82b24-65cf-4fef-a128-267edd56c6b4",
     "showTitle": false,
     "title": ""
    }
   },
   "outputs": [],
   "source": []
  },
  {
   "cell_type": "code",
   "execution_count": 0,
   "metadata": {
    "application/vnd.databricks.v1+cell": {
     "cellMetadata": {},
     "inputWidgets": {},
     "nuid": "539e5202-52db-447b-ae20-85f8ab5af59e",
     "showTitle": false,
     "title": ""
    }
   },
   "outputs": [],
   "source": []
  }
 ],
 "metadata": {
  "application/vnd.databricks.v1+notebook": {
   "dashboards": [],
   "language": "python",
   "notebookMetadata": {},
   "notebookName": "mvr_anonymisation",
   "widgets": {}
  },
  "kernelspec": {
   "display_name": "Python 3 (ipykernel)",
   "language": "python",
   "name": "python3"
  },
  "language_info": {
   "codemirror_mode": {
    "name": "ipython",
    "version": 3
   },
   "file_extension": ".py",
   "mimetype": "text/x-python",
   "name": "python",
   "nbconvert_exporter": "python",
   "pygments_lexer": "ipython3",
   "version": "3.9.9"
  }
 },
 "nbformat": 4,
 "nbformat_minor": 0
}
