{
 "cells": [
  {
   "cell_type": "markdown",
   "metadata": {
    "application/vnd.databricks.v1+cell": {
     "cellMetadata": {},
     "inputWidgets": {},
     "nuid": "af474498-8737-4a28-b9ae-ae69c9efb80f",
     "showTitle": false,
     "title": ""
    },
    "tags": []
   },
   "source": [
    "### Step-by-step anonymisation of MVR data"
   ]
  },
  {
   "cell_type": "markdown",
   "metadata": {
    "application/vnd.databricks.v1+cell": {
     "cellMetadata": {},
     "inputWidgets": {},
     "nuid": "3bd62326-0655-419f-aa70-7f81cd31a32b",
     "showTitle": false,
     "title": ""
    }
   },
   "source": [
    "#### TODOS:\n",
    "\n",
    "- Hash number plate, look at: https://towardsdatascience.com/anonymise-sensitive-data-in-a-pandas-dataframe-column-with-hashlib-8e7ef397d91f\n",
    "- Apply k-anonymity (e.g., Mondrian) to selected columns, such as Age, Year, or\n",
    "- Put Age into pre-defined groups, eg., 0-14, 15-24, 25 - 44, 45-64, 65+\n",
    "- Apply Faker on names\n",
    "- Create an abstract ColumnAnonymiser class, takes column data type, and target policy as inputs. Implement AgeAnonymiser, NZNumberPlateAnonymiser"
   ]
  },
  {
   "cell_type": "code",
   "execution_count": 0,
   "metadata": {
    "application/vnd.databricks.v1+cell": {
     "cellMetadata": {},
     "inputWidgets": {},
     "nuid": "d11a26e2-1f38-465b-9556-b40619bd45d2",
     "showTitle": false,
     "title": ""
    }
   },
   "outputs": [],
   "source": []
  },
  {
   "cell_type": "code",
   "execution_count": 1,
   "metadata": {
    "application/vnd.databricks.v1+cell": {
     "cellMetadata": {},
     "inputWidgets": {},
     "nuid": "79db4937-0af0-4fb3-bfd9-cb9173838af2",
     "showTitle": false,
     "title": ""
    },
    "tags": []
   },
   "outputs": [],
   "source": [
    "import pandas as pd\n",
    "import csv\n",
    "import re\n",
    "\n",
    "from collections import defaultdict"
   ]
  },
  {
   "cell_type": "code",
   "execution_count": 2,
   "metadata": {
    "application/vnd.databricks.v1+cell": {
     "cellMetadata": {},
     "inputWidgets": {},
     "nuid": "ce5db577-fce2-47e8-a6c3-2d7e78a12431",
     "showTitle": false,
     "title": ""
    },
    "tags": []
   },
   "outputs": [],
   "source": [
    "df = pd.read_csv('mvr_synthetic_data.csv')"
   ]
  },
  {
   "cell_type": "code",
   "execution_count": 3,
   "metadata": {
    "application/vnd.databricks.v1+cell": {
     "cellMetadata": {},
     "inputWidgets": {},
     "nuid": "5ac09819-7ca5-477c-9988-8704aeb997ee",
     "showTitle": false,
     "title": ""
    },
    "tags": []
   },
   "outputs": [
    {
     "data": {
      "text/html": [
       "<div>\n",
       "<style scoped>\n",
       "    .dataframe tbody tr th:only-of-type {\n",
       "        vertical-align: middle;\n",
       "    }\n",
       "\n",
       "    .dataframe tbody tr th {\n",
       "        vertical-align: top;\n",
       "    }\n",
       "\n",
       "    .dataframe thead th {\n",
       "        text-align: right;\n",
       "    }\n",
       "</style>\n",
       "<table border=\"1\" class=\"dataframe\">\n",
       "  <thead>\n",
       "    <tr style=\"text-align: right;\">\n",
       "      <th></th>\n",
       "      <th>Name</th>\n",
       "      <th>CarMake</th>\n",
       "      <th>CarModel</th>\n",
       "      <th>Year</th>\n",
       "      <th>NumberPlate</th>\n",
       "      <th>Gender</th>\n",
       "      <th>Age</th>\n",
       "    </tr>\n",
       "  </thead>\n",
       "  <tbody>\n",
       "    <tr>\n",
       "      <th>0</th>\n",
       "      <td>John Smith</td>\n",
       "      <td>Toyota</td>\n",
       "      <td>Corolla</td>\n",
       "      <td>2017</td>\n",
       "      <td>ABC-1234</td>\n",
       "      <td>Male</td>\n",
       "      <td>34</td>\n",
       "    </tr>\n",
       "    <tr>\n",
       "      <th>1</th>\n",
       "      <td>Jane Doe</td>\n",
       "      <td>Honda</td>\n",
       "      <td>Civic</td>\n",
       "      <td>2019</td>\n",
       "      <td>XYZ-5678</td>\n",
       "      <td>Female</td>\n",
       "      <td>28</td>\n",
       "    </tr>\n",
       "    <tr>\n",
       "      <th>2</th>\n",
       "      <td>Michael Johnson</td>\n",
       "      <td>Ford</td>\n",
       "      <td>Focus</td>\n",
       "      <td>2018</td>\n",
       "      <td>JKL-4321</td>\n",
       "      <td>Male</td>\n",
       "      <td>45</td>\n",
       "    </tr>\n",
       "    <tr>\n",
       "      <th>3</th>\n",
       "      <td>Emily Brown</td>\n",
       "      <td>Nissan</td>\n",
       "      <td>Altima</td>\n",
       "      <td>2016</td>\n",
       "      <td>MNO-9876</td>\n",
       "      <td>Female</td>\n",
       "      <td>31</td>\n",
       "    </tr>\n",
       "    <tr>\n",
       "      <th>4</th>\n",
       "      <td>Daniel Davis</td>\n",
       "      <td>Chevrolet</td>\n",
       "      <td>Impala</td>\n",
       "      <td>2020</td>\n",
       "      <td>PQR-6543</td>\n",
       "      <td>Male</td>\n",
       "      <td>52</td>\n",
       "    </tr>\n",
       "  </tbody>\n",
       "</table>\n",
       "</div>"
      ],
      "text/plain": [
       "              Name    CarMake CarModel  Year NumberPlate  Gender  Age\n",
       "0       John Smith     Toyota  Corolla  2017    ABC-1234    Male   34\n",
       "1         Jane Doe      Honda    Civic  2019    XYZ-5678  Female   28\n",
       "2  Michael Johnson       Ford    Focus  2018    JKL-4321    Male   45\n",
       "3      Emily Brown     Nissan   Altima  2016    MNO-9876  Female   31\n",
       "4     Daniel Davis  Chevrolet   Impala  2020    PQR-6543    Male   52"
      ]
     },
     "execution_count": 3,
     "metadata": {},
     "output_type": "execute_result"
    }
   ],
   "source": [
    "df.head()"
   ]
  },
  {
   "cell_type": "code",
   "execution_count": 4,
   "metadata": {
    "application/vnd.databricks.v1+cell": {
     "cellMetadata": {},
     "inputWidgets": {},
     "nuid": "24aa6c91-e715-42b0-a5c8-e6271acd0414",
     "showTitle": false,
     "title": ""
    },
    "tags": []
   },
   "outputs": [
    {
     "name": "stdout",
     "output_type": "stream",
     "text": [
      "XXX-0000\n"
     ]
    }
   ],
   "source": [
    "def anonymise_car_number_plates(text):\n",
    "    def replace_alphabets_numbers(match):\n",
    "        plate = match.group()\n",
    "        anonymized_plate = re.sub(r'[A-Za-z]', 'X', plate)\n",
    "        anonymized_plate = re.sub(r'\\d', '0', anonymized_plate)\n",
    "        return anonymized_plate\n",
    "\n",
    "    # Define the regular expression pattern to match car number plates\n",
    "    number_plate_pattern = r'\\b[A-Za-z]{3}-\\d{4}\\b'\n",
    "\n",
    "    # Replace all occurrences of number plates with the anonymized string\n",
    "    anonymized_text = re.sub(number_plate_pattern, replace_alphabets_numbers, text)\n",
    "\n",
    "    return anonymized_text\n",
    "\n",
    "# Example usage\n",
    "text = \"ABC-1234\"\n",
    "anonymized_text = anonymise_car_number_plates(text)\n",
    "print(anonymized_text)"
   ]
  },
  {
   "cell_type": "code",
   "execution_count": null,
   "metadata": {
    "application/vnd.databricks.v1+cell": {
     "cellMetadata": {},
     "inputWidgets": {},
     "nuid": "d70421ac-2bb0-4730-bbe3-013965d53b93",
     "showTitle": false,
     "title": ""
    }
   },
   "outputs": [],
   "source": []
  },
  {
   "cell_type": "code",
   "execution_count": 5,
   "metadata": {
    "application/vnd.databricks.v1+cell": {
     "cellMetadata": {},
     "inputWidgets": {},
     "nuid": "77dd4e03-b708-4f67-9f15-4a1f578bb6be",
     "showTitle": false,
     "title": ""
    },
    "tags": []
   },
   "outputs": [],
   "source": [
    "df['anonymised_NumberPlate'] = df['NumberPlate'].apply(lambda x: anonymise_car_number_plates(x))"
   ]
  },
  {
   "cell_type": "code",
   "execution_count": 6,
   "metadata": {
    "application/vnd.databricks.v1+cell": {
     "cellMetadata": {},
     "inputWidgets": {},
     "nuid": "d98b66a1-8cda-41bd-99bd-432840eed997",
     "showTitle": false,
     "title": ""
    },
    "tags": []
   },
   "outputs": [
    {
     "data": {
      "text/html": [
       "<div>\n",
       "<style scoped>\n",
       "    .dataframe tbody tr th:only-of-type {\n",
       "        vertical-align: middle;\n",
       "    }\n",
       "\n",
       "    .dataframe tbody tr th {\n",
       "        vertical-align: top;\n",
       "    }\n",
       "\n",
       "    .dataframe thead th {\n",
       "        text-align: right;\n",
       "    }\n",
       "</style>\n",
       "<table border=\"1\" class=\"dataframe\">\n",
       "  <thead>\n",
       "    <tr style=\"text-align: right;\">\n",
       "      <th></th>\n",
       "      <th>Name</th>\n",
       "      <th>CarMake</th>\n",
       "      <th>CarModel</th>\n",
       "      <th>Year</th>\n",
       "      <th>NumberPlate</th>\n",
       "      <th>Gender</th>\n",
       "      <th>Age</th>\n",
       "      <th>anonymised_NumberPlate</th>\n",
       "    </tr>\n",
       "  </thead>\n",
       "  <tbody>\n",
       "    <tr>\n",
       "      <th>0</th>\n",
       "      <td>John Smith</td>\n",
       "      <td>Toyota</td>\n",
       "      <td>Corolla</td>\n",
       "      <td>2017</td>\n",
       "      <td>ABC-1234</td>\n",
       "      <td>Male</td>\n",
       "      <td>34</td>\n",
       "      <td>XXX-0000</td>\n",
       "    </tr>\n",
       "    <tr>\n",
       "      <th>1</th>\n",
       "      <td>Jane Doe</td>\n",
       "      <td>Honda</td>\n",
       "      <td>Civic</td>\n",
       "      <td>2019</td>\n",
       "      <td>XYZ-5678</td>\n",
       "      <td>Female</td>\n",
       "      <td>28</td>\n",
       "      <td>XXX-0000</td>\n",
       "    </tr>\n",
       "    <tr>\n",
       "      <th>2</th>\n",
       "      <td>Michael Johnson</td>\n",
       "      <td>Ford</td>\n",
       "      <td>Focus</td>\n",
       "      <td>2018</td>\n",
       "      <td>JKL-4321</td>\n",
       "      <td>Male</td>\n",
       "      <td>45</td>\n",
       "      <td>XXX-0000</td>\n",
       "    </tr>\n",
       "    <tr>\n",
       "      <th>3</th>\n",
       "      <td>Emily Brown</td>\n",
       "      <td>Nissan</td>\n",
       "      <td>Altima</td>\n",
       "      <td>2016</td>\n",
       "      <td>MNO-9876</td>\n",
       "      <td>Female</td>\n",
       "      <td>31</td>\n",
       "      <td>XXX-0000</td>\n",
       "    </tr>\n",
       "    <tr>\n",
       "      <th>4</th>\n",
       "      <td>Daniel Davis</td>\n",
       "      <td>Chevrolet</td>\n",
       "      <td>Impala</td>\n",
       "      <td>2020</td>\n",
       "      <td>PQR-6543</td>\n",
       "      <td>Male</td>\n",
       "      <td>52</td>\n",
       "      <td>XXX-0000</td>\n",
       "    </tr>\n",
       "  </tbody>\n",
       "</table>\n",
       "</div>"
      ],
      "text/plain": [
       "              Name    CarMake CarModel  Year NumberPlate  Gender  Age  \\\n",
       "0       John Smith     Toyota  Corolla  2017    ABC-1234    Male   34   \n",
       "1         Jane Doe      Honda    Civic  2019    XYZ-5678  Female   28   \n",
       "2  Michael Johnson       Ford    Focus  2018    JKL-4321    Male   45   \n",
       "3      Emily Brown     Nissan   Altima  2016    MNO-9876  Female   31   \n",
       "4     Daniel Davis  Chevrolet   Impala  2020    PQR-6543    Male   52   \n",
       "\n",
       "  anonymised_NumberPlate  \n",
       "0               XXX-0000  \n",
       "1               XXX-0000  \n",
       "2               XXX-0000  \n",
       "3               XXX-0000  \n",
       "4               XXX-0000  "
      ]
     },
     "execution_count": 6,
     "metadata": {},
     "output_type": "execute_result"
    }
   ],
   "source": [
    "df.head()"
   ]
  },
  {
   "cell_type": "code",
   "execution_count": 7,
   "metadata": {
    "application/vnd.databricks.v1+cell": {
     "cellMetadata": {},
     "inputWidgets": {},
     "nuid": "373ae0ca-e134-4f80-9585-4894f43daced",
     "showTitle": false,
     "title": ""
    }
   },
   "outputs": [
    {
     "ename": "NameError",
     "evalue": "name 'vehicle_provider' is not defined",
     "output_type": "error",
     "traceback": [
      "\u001b[0;31m---------------------------------------------------------------------------\u001b[0m",
      "\u001b[0;31mNameError\u001b[0m                                 Traceback (most recent call last)",
      "Cell \u001b[0;32mIn[7], line 6\u001b[0m\n\u001b[1;32m      3\u001b[0m \u001b[38;5;28;01mfrom\u001b[39;00m \u001b[38;5;21;01mfaker_vehicle\u001b[39;00m \u001b[38;5;28;01mimport\u001b[39;00m VehicleProvider\n\u001b[1;32m      5\u001b[0m \u001b[38;5;66;03m# Anonymise the NumberPlate column\u001b[39;00m\n\u001b[0;32m----> 6\u001b[0m df[\u001b[38;5;124m'\u001b[39m\u001b[38;5;124mNumberPlateFaked\u001b[39m\u001b[38;5;124m'\u001b[39m] \u001b[38;5;241m=\u001b[39m \u001b[43mdf\u001b[49m\u001b[43m[\u001b[49m\u001b[38;5;124;43m'\u001b[39;49m\u001b[38;5;124;43mNumberPlate\u001b[39;49m\u001b[38;5;124;43m'\u001b[39;49m\u001b[43m]\u001b[49m\u001b[38;5;241;43m.\u001b[39;49m\u001b[43mapply\u001b[49m\u001b[43m(\u001b[49m\u001b[38;5;28;43;01mlambda\u001b[39;49;00m\u001b[43m \u001b[49m\u001b[43mx\u001b[49m\u001b[43m:\u001b[49m\u001b[43m \u001b[49m\u001b[43mvehicle_provider\u001b[49m\u001b[38;5;241;43m.\u001b[39;49m\u001b[43mnumerify\u001b[49m\u001b[43m(\u001b[49m\u001b[38;5;124;43m'\u001b[39;49m\u001b[38;5;124;43m???-####\u001b[39;49m\u001b[38;5;124;43m'\u001b[39;49m\u001b[43m)\u001b[49m\u001b[43m)\u001b[49m\n\u001b[1;32m      8\u001b[0m df\u001b[38;5;241m.\u001b[39mhead()\n",
      "File \u001b[0;32m~/.local/share/virtualenvs/data-anonymization-MfPseODn/lib/python3.9/site-packages/pandas/core/series.py:4630\u001b[0m, in \u001b[0;36mSeries.apply\u001b[0;34m(self, func, convert_dtype, args, **kwargs)\u001b[0m\n\u001b[1;32m   4520\u001b[0m \u001b[38;5;28;01mdef\u001b[39;00m \u001b[38;5;21mapply\u001b[39m(\n\u001b[1;32m   4521\u001b[0m     \u001b[38;5;28mself\u001b[39m,\n\u001b[1;32m   4522\u001b[0m     func: AggFuncType,\n\u001b[0;32m   (...)\u001b[0m\n\u001b[1;32m   4525\u001b[0m     \u001b[38;5;241m*\u001b[39m\u001b[38;5;241m*\u001b[39mkwargs,\n\u001b[1;32m   4526\u001b[0m ) \u001b[38;5;241m-\u001b[39m\u001b[38;5;241m>\u001b[39m DataFrame \u001b[38;5;241m|\u001b[39m Series:\n\u001b[1;32m   4527\u001b[0m \u001b[38;5;250m    \u001b[39m\u001b[38;5;124;03m\"\"\"\u001b[39;00m\n\u001b[1;32m   4528\u001b[0m \u001b[38;5;124;03m    Invoke function on values of Series.\u001b[39;00m\n\u001b[1;32m   4529\u001b[0m \n\u001b[0;32m   (...)\u001b[0m\n\u001b[1;32m   4628\u001b[0m \u001b[38;5;124;03m    dtype: float64\u001b[39;00m\n\u001b[1;32m   4629\u001b[0m \u001b[38;5;124;03m    \"\"\"\u001b[39;00m\n\u001b[0;32m-> 4630\u001b[0m     \u001b[38;5;28;01mreturn\u001b[39;00m \u001b[43mSeriesApply\u001b[49m\u001b[43m(\u001b[49m\u001b[38;5;28;43mself\u001b[39;49m\u001b[43m,\u001b[49m\u001b[43m \u001b[49m\u001b[43mfunc\u001b[49m\u001b[43m,\u001b[49m\u001b[43m \u001b[49m\u001b[43mconvert_dtype\u001b[49m\u001b[43m,\u001b[49m\u001b[43m \u001b[49m\u001b[43margs\u001b[49m\u001b[43m,\u001b[49m\u001b[43m \u001b[49m\u001b[43mkwargs\u001b[49m\u001b[43m)\u001b[49m\u001b[38;5;241;43m.\u001b[39;49m\u001b[43mapply\u001b[49m\u001b[43m(\u001b[49m\u001b[43m)\u001b[49m\n",
      "File \u001b[0;32m~/.local/share/virtualenvs/data-anonymization-MfPseODn/lib/python3.9/site-packages/pandas/core/apply.py:1025\u001b[0m, in \u001b[0;36mSeriesApply.apply\u001b[0;34m(self)\u001b[0m\n\u001b[1;32m   1022\u001b[0m     \u001b[38;5;28;01mreturn\u001b[39;00m \u001b[38;5;28mself\u001b[39m\u001b[38;5;241m.\u001b[39mapply_str()\n\u001b[1;32m   1024\u001b[0m \u001b[38;5;66;03m# self.f is Callable\u001b[39;00m\n\u001b[0;32m-> 1025\u001b[0m \u001b[38;5;28;01mreturn\u001b[39;00m \u001b[38;5;28;43mself\u001b[39;49m\u001b[38;5;241;43m.\u001b[39;49m\u001b[43mapply_standard\u001b[49m\u001b[43m(\u001b[49m\u001b[43m)\u001b[49m\n",
      "File \u001b[0;32m~/.local/share/virtualenvs/data-anonymization-MfPseODn/lib/python3.9/site-packages/pandas/core/apply.py:1076\u001b[0m, in \u001b[0;36mSeriesApply.apply_standard\u001b[0;34m(self)\u001b[0m\n\u001b[1;32m   1074\u001b[0m     \u001b[38;5;28;01melse\u001b[39;00m:\n\u001b[1;32m   1075\u001b[0m         values \u001b[38;5;241m=\u001b[39m obj\u001b[38;5;241m.\u001b[39mastype(\u001b[38;5;28mobject\u001b[39m)\u001b[38;5;241m.\u001b[39m_values\n\u001b[0;32m-> 1076\u001b[0m         mapped \u001b[38;5;241m=\u001b[39m \u001b[43mlib\u001b[49m\u001b[38;5;241;43m.\u001b[39;49m\u001b[43mmap_infer\u001b[49m\u001b[43m(\u001b[49m\n\u001b[1;32m   1077\u001b[0m \u001b[43m            \u001b[49m\u001b[43mvalues\u001b[49m\u001b[43m,\u001b[49m\n\u001b[1;32m   1078\u001b[0m \u001b[43m            \u001b[49m\u001b[43mf\u001b[49m\u001b[43m,\u001b[49m\n\u001b[1;32m   1079\u001b[0m \u001b[43m            \u001b[49m\u001b[43mconvert\u001b[49m\u001b[38;5;241;43m=\u001b[39;49m\u001b[38;5;28;43mself\u001b[39;49m\u001b[38;5;241;43m.\u001b[39;49m\u001b[43mconvert_dtype\u001b[49m\u001b[43m,\u001b[49m\n\u001b[1;32m   1080\u001b[0m \u001b[43m        \u001b[49m\u001b[43m)\u001b[49m\n\u001b[1;32m   1082\u001b[0m \u001b[38;5;28;01mif\u001b[39;00m \u001b[38;5;28mlen\u001b[39m(mapped) \u001b[38;5;129;01mand\u001b[39;00m \u001b[38;5;28misinstance\u001b[39m(mapped[\u001b[38;5;241m0\u001b[39m], ABCSeries):\n\u001b[1;32m   1083\u001b[0m     \u001b[38;5;66;03m# GH#43986 Need to do list(mapped) in order to get treated as nested\u001b[39;00m\n\u001b[1;32m   1084\u001b[0m     \u001b[38;5;66;03m#  See also GH#25959 regarding EA support\u001b[39;00m\n\u001b[1;32m   1085\u001b[0m     \u001b[38;5;28;01mreturn\u001b[39;00m obj\u001b[38;5;241m.\u001b[39m_constructor_expanddim(\u001b[38;5;28mlist\u001b[39m(mapped), index\u001b[38;5;241m=\u001b[39mobj\u001b[38;5;241m.\u001b[39mindex)\n",
      "File \u001b[0;32m~/.local/share/virtualenvs/data-anonymization-MfPseODn/lib/python3.9/site-packages/pandas/_libs/lib.pyx:2834\u001b[0m, in \u001b[0;36mpandas._libs.lib.map_infer\u001b[0;34m()\u001b[0m\n",
      "Cell \u001b[0;32mIn[7], line 6\u001b[0m, in \u001b[0;36m<lambda>\u001b[0;34m(x)\u001b[0m\n\u001b[1;32m      3\u001b[0m \u001b[38;5;28;01mfrom\u001b[39;00m \u001b[38;5;21;01mfaker_vehicle\u001b[39;00m \u001b[38;5;28;01mimport\u001b[39;00m VehicleProvider\n\u001b[1;32m      5\u001b[0m \u001b[38;5;66;03m# Anonymise the NumberPlate column\u001b[39;00m\n\u001b[0;32m----> 6\u001b[0m df[\u001b[38;5;124m'\u001b[39m\u001b[38;5;124mNumberPlateFaked\u001b[39m\u001b[38;5;124m'\u001b[39m] \u001b[38;5;241m=\u001b[39m df[\u001b[38;5;124m'\u001b[39m\u001b[38;5;124mNumberPlate\u001b[39m\u001b[38;5;124m'\u001b[39m]\u001b[38;5;241m.\u001b[39mapply(\u001b[38;5;28;01mlambda\u001b[39;00m x: \u001b[43mvehicle_provider\u001b[49m\u001b[38;5;241m.\u001b[39mnumerify(\u001b[38;5;124m'\u001b[39m\u001b[38;5;124m???-####\u001b[39m\u001b[38;5;124m'\u001b[39m))\n\u001b[1;32m      8\u001b[0m df\u001b[38;5;241m.\u001b[39mhead()\n",
      "\u001b[0;31mNameError\u001b[0m: name 'vehicle_provider' is not defined"
     ]
    }
   ],
   "source": [
    "## use faker_vehicle to anonymise number plate\n",
    "from faker import Faker\n",
    "from faker_vehicle import VehicleProvider\n",
    "\n",
    "# Anonymise the NumberPlate column\n",
    "df['NumberPlateFaked'] = df['NumberPlate'].apply(lambda x: vehicle_provider.numerify('???-####'))\n",
    "\n",
    "df.head()"
   ]
  },
  {
   "cell_type": "code",
   "execution_count": null,
   "metadata": {
    "application/vnd.databricks.v1+cell": {
     "cellMetadata": {},
     "inputWidgets": {},
     "nuid": "71e925bd-314e-44d0-b7f5-c13a5c82e1db",
     "showTitle": false,
     "title": ""
    },
    "tags": []
   },
   "outputs": [],
   "source": [
    "def compute_equivalence_classes(df, quasi_identifiers):\n",
    "    eq_classes = defaultdict(int)\n",
    "    \n",
    "    for index, row in df.iterrows():\n",
    "        key = tuple(row[qi] for qi in quasi_identifiers)\n",
    "        eq_classes[key] += 1\n",
    "    \n",
    "    return eq_classes\n",
    "\n",
    "def is_k_anonymous(dataset, quasi_identifiers, k):\n",
    "    eq_classes = compute_equivalence_classes(dataset, quasi_identifiers)\n",
    "    \n",
    "    for count in eq_classes.values():\n",
    "        if count < k:\n",
    "            return False\n",
    "            \n",
    "    return True"
   ]
  },
  {
   "cell_type": "code",
   "execution_count": null,
   "metadata": {
    "application/vnd.databricks.v1+cell": {
     "cellMetadata": {},
     "inputWidgets": {},
     "nuid": "d93b598e-39ca-4f78-a90f-80f99bf4a9e0",
     "showTitle": false,
     "title": ""
    }
   },
   "outputs": [],
   "source": []
  },
  {
   "cell_type": "code",
   "execution_count": 8,
   "metadata": {
    "application/vnd.databricks.v1+cell": {
     "cellMetadata": {},
     "inputWidgets": {},
     "nuid": "ec339138-286c-4dbb-8ca4-8baeee7e5318",
     "showTitle": false,
     "title": ""
    },
    "tags": []
   },
   "outputs": [
    {
     "ename": "NameError",
     "evalue": "name 'is_k_anonymous' is not defined",
     "output_type": "error",
     "traceback": [
      "\u001b[0;31m---------------------------------------------------------------------------\u001b[0m",
      "\u001b[0;31mNameError\u001b[0m                                 Traceback (most recent call last)",
      "Cell \u001b[0;32mIn[8], line 15\u001b[0m\n\u001b[1;32m     12\u001b[0m k \u001b[38;5;241m=\u001b[39m \u001b[38;5;241m3\u001b[39m\n\u001b[1;32m     14\u001b[0m \u001b[38;5;66;03m# Check if the dataset is k-anonymous\u001b[39;00m\n\u001b[0;32m---> 15\u001b[0m k_anonymous \u001b[38;5;241m=\u001b[39m \u001b[43mis_k_anonymous\u001b[49m(df, quasi_identifiers, k)\n\u001b[1;32m     16\u001b[0m \u001b[38;5;28mprint\u001b[39m(\u001b[38;5;124mf\u001b[39m\u001b[38;5;124m\"\u001b[39m\u001b[38;5;124mThe dataset is \u001b[39m\u001b[38;5;132;01m{\u001b[39;00mk\u001b[38;5;132;01m}\u001b[39;00m\u001b[38;5;124m-anonymous: \u001b[39m\u001b[38;5;132;01m{\u001b[39;00mk_anonymous\u001b[38;5;132;01m}\u001b[39;00m\u001b[38;5;124m\"\u001b[39m)\n",
      "\u001b[0;31mNameError\u001b[0m: name 'is_k_anonymous' is not defined"
     ]
    }
   ],
   "source": [
    "# Define the list of quasi-identifiers\n",
    "# quasi_identifiers = ['CarMake', 'CarModel', 'Year']\n",
    "\n",
    "# quasi_identifiers = ['anonymised_NumberPlate']\n",
    "\n",
    "# quasi_identifiers = ['Age', 'Gender']\n",
    "\n",
    "quasi_identifiers = ['Gender', 'anonymised_NumberPlate']\n",
    "\n",
    "\n",
    "# Define the k value\n",
    "k = 3\n",
    "\n",
    "# Check if the dataset is k-anonymous\n",
    "k_anonymous = is_k_anonymous(df, quasi_identifiers, k)\n",
    "print(f\"The dataset is {k}-anonymous: {k_anonymous}\")"
   ]
  },
  {
   "cell_type": "code",
   "execution_count": null,
   "metadata": {
    "application/vnd.databricks.v1+cell": {
     "cellMetadata": {},
     "inputWidgets": {},
     "nuid": "acd26401-1f8a-435e-8aaa-7c4baf58987d",
     "showTitle": false,
     "title": ""
    }
   },
   "outputs": [],
   "source": []
  },
  {
   "cell_type": "markdown",
   "metadata": {
    "application/vnd.databricks.v1+cell": {
     "cellMetadata": {},
     "inputWidgets": {},
     "nuid": "91ef588f-4afa-41fe-972e-45833c18a383",
     "showTitle": false,
     "title": ""
    }
   },
   "source": [
    "### 2. Apply k-anonymity (e.g., Mondrian) to selected columns, such as Age, Year, or"
   ]
  },
  {
   "cell_type": "code",
   "execution_count": 9,
   "metadata": {
    "application/vnd.databricks.v1+cell": {
     "cellMetadata": {},
     "inputWidgets": {},
     "nuid": "c1ec9fa6-1e27-4ee3-bfae-c9112d94b552",
     "showTitle": false,
     "title": ""
    }
   },
   "outputs": [
    {
     "ename": "NameError",
     "evalue": "name 'is_k_anonymous' is not defined",
     "output_type": "error",
     "traceback": [
      "\u001b[0;31m---------------------------------------------------------------------------\u001b[0m",
      "\u001b[0;31mNameError\u001b[0m                                 Traceback (most recent call last)",
      "Cell \u001b[0;32mIn[9], line 12\u001b[0m\n\u001b[1;32m     10\u001b[0m k \u001b[38;5;241m=\u001b[39m \u001b[38;5;241m3\u001b[39m  \u001b[38;5;66;03m# Specify the desired k value for k-anonymity\u001b[39;00m\n\u001b[1;32m     11\u001b[0m \u001b[38;5;28;01mfor\u001b[39;00m qi \u001b[38;5;129;01min\u001b[39;00m quasi_identifiers:\n\u001b[0;32m---> 12\u001b[0m     is_k \u001b[38;5;241m=\u001b[39m \u001b[43mis_k_anonymous\u001b[49m(df, qi, k)\n\u001b[1;32m     13\u001b[0m     \u001b[38;5;28mprint\u001b[39m(\u001b[38;5;124mf\u001b[39m\u001b[38;5;124m\"\u001b[39m\u001b[38;5;132;01m{\u001b[39;00mqi\u001b[38;5;132;01m}\u001b[39;00m\u001b[38;5;124m is k-anonymous: \u001b[39m\u001b[38;5;132;01m{\u001b[39;00mis_k\u001b[38;5;132;01m}\u001b[39;00m\u001b[38;5;124m\"\u001b[39m)\n",
      "\u001b[0;31mNameError\u001b[0m: name 'is_k_anonymous' is not defined"
     ]
    }
   ],
   "source": [
    "# Define the list of quasi-identifiers\n",
    "quasi_identifiers = [\n",
    "    ['CarMake', 'CarModel', 'Year'],\n",
    "    ['anonymised_NumberPlate'],\n",
    "    ['Age', 'Gender'],\n",
    "    ['Gender', 'anonymised_NumberPlate']\n",
    "]\n",
    "\n",
    "# Apply is_k_anonymous to each element in the big list\n",
    "k = 3  # Specify the desired k value for k-anonymity\n",
    "for qi in quasi_identifiers:\n",
    "    is_k = is_k_anonymous(df, qi, k)\n",
    "    print(f\"{qi} is k-anonymous: {is_k}\")"
   ]
  },
  {
   "cell_type": "code",
   "execution_count": 0,
   "metadata": {
    "application/vnd.databricks.v1+cell": {
     "cellMetadata": {},
     "inputWidgets": {},
     "nuid": "d32be271-1448-49cd-a3a1-800424ade883",
     "showTitle": false,
     "title": ""
    }
   },
   "outputs": [],
   "source": []
  },
  {
   "cell_type": "markdown",
   "metadata": {
    "application/vnd.databricks.v1+cell": {
     "cellMetadata": {},
     "inputWidgets": {},
     "nuid": "bf4beb07-d722-4120-ab4d-0ae8da59b492",
     "showTitle": false,
     "title": ""
    }
   },
   "source": [
    "### 3. Put Age into pre-defined groups, eg., 0-14, 15-24, 25 - 44, 45-64, 65+"
   ]
  },
  {
   "cell_type": "code",
   "execution_count": 0,
   "metadata": {
    "application/vnd.databricks.v1+cell": {
     "cellMetadata": {},
     "inputWidgets": {},
     "nuid": "55a56711-d67e-4651-9c57-d169c7ea6a42",
     "showTitle": false,
     "title": ""
    }
   },
   "outputs": [],
   "source": [
    "# Define age groups\n",
    "age_groups = {\n",
    "    '0-14': range(0, 15),\n",
    "    '15-24': range(15, 25),\n",
    "    '25-44': range(25, 45),\n",
    "    '45-64': range(45, 65),\n",
    "    '65+': range(65, 110)\n",
    "}\n",
    "\n",
    "# Define a function to map age to age group\n",
    "def map_age_to_group(age):\n",
    "    for group, age_range in age_groups.items():\n",
    "        if age in age_range:\n",
    "            return group\n",
    "    return None  # Return None if age is not in any of the defined age groups\n",
    "\n",
    "# Apply the age grouping function to the Age column\n",
    "df['AgeGroup'] = df['Age'].apply(map_age_to_group)\n",
    "df.head()"
   ]
  },
  {
   "cell_type": "code",
   "execution_count": 0,
   "metadata": {
    "application/vnd.databricks.v1+cell": {
     "cellMetadata": {},
     "inputWidgets": {},
     "nuid": "04cbe94d-74a4-4128-bf6f-203a8058bfb3",
     "showTitle": false,
     "title": ""
    }
   },
   "outputs": [],
   "source": []
  },
  {
   "cell_type": "markdown",
   "metadata": {
    "application/vnd.databricks.v1+cell": {
     "cellMetadata": {},
     "inputWidgets": {},
     "nuid": "c0bacd13-166e-4542-8d43-8fa216cb7fd7",
     "showTitle": false,
     "title": ""
    }
   },
   "source": [
    "### 3. Apply Faker on names"
   ]
  },
  {
   "cell_type": "code",
   "execution_count": 10,
   "metadata": {
    "application/vnd.databricks.v1+cell": {
     "cellMetadata": {},
     "inputWidgets": {},
     "nuid": "6adc402f-8da5-4f8c-ab70-13074841c7ad",
     "showTitle": false,
     "title": ""
    }
   },
   "outputs": [
    {
     "data": {
      "text/html": [
       "<div>\n",
       "<style scoped>\n",
       "    .dataframe tbody tr th:only-of-type {\n",
       "        vertical-align: middle;\n",
       "    }\n",
       "\n",
       "    .dataframe tbody tr th {\n",
       "        vertical-align: top;\n",
       "    }\n",
       "\n",
       "    .dataframe thead th {\n",
       "        text-align: right;\n",
       "    }\n",
       "</style>\n",
       "<table border=\"1\" class=\"dataframe\">\n",
       "  <thead>\n",
       "    <tr style=\"text-align: right;\">\n",
       "      <th></th>\n",
       "      <th>Name</th>\n",
       "      <th>CarMake</th>\n",
       "      <th>CarModel</th>\n",
       "      <th>Year</th>\n",
       "      <th>NumberPlate</th>\n",
       "      <th>Gender</th>\n",
       "      <th>Age</th>\n",
       "      <th>anonymised_NumberPlate</th>\n",
       "      <th>NameFaked</th>\n",
       "    </tr>\n",
       "  </thead>\n",
       "  <tbody>\n",
       "    <tr>\n",
       "      <th>0</th>\n",
       "      <td>John Smith</td>\n",
       "      <td>Toyota</td>\n",
       "      <td>Corolla</td>\n",
       "      <td>2017</td>\n",
       "      <td>ABC-1234</td>\n",
       "      <td>Male</td>\n",
       "      <td>34</td>\n",
       "      <td>XXX-0000</td>\n",
       "      <td>Richard Coleman</td>\n",
       "    </tr>\n",
       "    <tr>\n",
       "      <th>1</th>\n",
       "      <td>Jane Doe</td>\n",
       "      <td>Honda</td>\n",
       "      <td>Civic</td>\n",
       "      <td>2019</td>\n",
       "      <td>XYZ-5678</td>\n",
       "      <td>Female</td>\n",
       "      <td>28</td>\n",
       "      <td>XXX-0000</td>\n",
       "      <td>Erik Walton</td>\n",
       "    </tr>\n",
       "    <tr>\n",
       "      <th>2</th>\n",
       "      <td>Michael Johnson</td>\n",
       "      <td>Ford</td>\n",
       "      <td>Focus</td>\n",
       "      <td>2018</td>\n",
       "      <td>JKL-4321</td>\n",
       "      <td>Male</td>\n",
       "      <td>45</td>\n",
       "      <td>XXX-0000</td>\n",
       "      <td>Carly Moon</td>\n",
       "    </tr>\n",
       "    <tr>\n",
       "      <th>3</th>\n",
       "      <td>Emily Brown</td>\n",
       "      <td>Nissan</td>\n",
       "      <td>Altima</td>\n",
       "      <td>2016</td>\n",
       "      <td>MNO-9876</td>\n",
       "      <td>Female</td>\n",
       "      <td>31</td>\n",
       "      <td>XXX-0000</td>\n",
       "      <td>Sharon Bautista DDS</td>\n",
       "    </tr>\n",
       "    <tr>\n",
       "      <th>4</th>\n",
       "      <td>Daniel Davis</td>\n",
       "      <td>Chevrolet</td>\n",
       "      <td>Impala</td>\n",
       "      <td>2020</td>\n",
       "      <td>PQR-6543</td>\n",
       "      <td>Male</td>\n",
       "      <td>52</td>\n",
       "      <td>XXX-0000</td>\n",
       "      <td>Rhonda Stevens</td>\n",
       "    </tr>\n",
       "  </tbody>\n",
       "</table>\n",
       "</div>"
      ],
      "text/plain": [
       "              Name    CarMake CarModel  Year NumberPlate  Gender  Age  \\\n",
       "0       John Smith     Toyota  Corolla  2017    ABC-1234    Male   34   \n",
       "1         Jane Doe      Honda    Civic  2019    XYZ-5678  Female   28   \n",
       "2  Michael Johnson       Ford    Focus  2018    JKL-4321    Male   45   \n",
       "3      Emily Brown     Nissan   Altima  2016    MNO-9876  Female   31   \n",
       "4     Daniel Davis  Chevrolet   Impala  2020    PQR-6543    Male   52   \n",
       "\n",
       "  anonymised_NumberPlate            NameFaked  \n",
       "0               XXX-0000      Richard Coleman  \n",
       "1               XXX-0000          Erik Walton  \n",
       "2               XXX-0000           Carly Moon  \n",
       "3               XXX-0000  Sharon Bautista DDS  \n",
       "4               XXX-0000       Rhonda Stevens  "
      ]
     },
     "execution_count": 10,
     "metadata": {},
     "output_type": "execute_result"
    }
   ],
   "source": [
    "from faker import Faker\n",
    "# to create and initialize a faker generator, which can generate data by \n",
    "# accessing properties named after the type of data you want.\n",
    "fake = Faker()\n",
    "\n",
    "# Apply the fake name generator to the Name column\n",
    "df['NameFaked'] = df['Name'].apply(lambda x: fake.name())\n",
    "df.head()"
   ]
  },
  {
   "cell_type": "code",
   "execution_count": 0,
   "metadata": {
    "application/vnd.databricks.v1+cell": {
     "cellMetadata": {},
     "inputWidgets": {},
     "nuid": "3b93176d-67e7-46f2-bc95-a35f89d9a29b",
     "showTitle": false,
     "title": ""
    }
   },
   "outputs": [],
   "source": []
  },
  {
   "cell_type": "markdown",
   "metadata": {
    "application/vnd.databricks.v1+cell": {
     "cellMetadata": {},
     "inputWidgets": {},
     "nuid": "9ef8e1c3-f948-42b1-a3e4-1a5d112b387f",
     "showTitle": false,
     "title": ""
    }
   },
   "source": [
    "### 4. Create an abstract ColumnAnonymiser class, takes column data type, and target policy as inputs. Implement AgeAnonymiser, NZNumberPlateAnonymiser"
   ]
  },
  {
   "cell_type": "code",
   "execution_count": 11,
   "metadata": {
    "application/vnd.databricks.v1+cell": {
     "cellMetadata": {},
     "inputWidgets": {},
     "nuid": "8c97da74-6ea6-4c90-b1b4-58df907484be",
     "showTitle": false,
     "title": ""
    }
   },
   "outputs": [],
   "source": [
    "from abc import ABC, abstractmethod\n",
    "\n",
    "class ColumnAnonymiser(ABC):\n",
    "    def __init__(self, column_data_type, target_policy):\n",
    "        self.column_data_type = column_data_type\n",
    "        self.target_policy = target_policy\n",
    "\n",
    "    @abstractmethod\n",
    "    def anonymise(self, column_data):\n",
    "        pass\n",
    "\n",
    "class AgeAnonymiser(ColumnAnonymiser):\n",
    "    def anonymise(self, column_data):\n",
    "        # Implement age anonymisation logic according to the target policy\n",
    "        if self.target_policy == 'age_group':\n",
    "            age_groups = {'0-14': range(0, 15), '15-24': range(15, 25), '25-44': range(25, 45), '45-64': range(45, 65), '65+': range(65, 200)}\n",
    "            age_group_map = {age_range: age_group for age_group, age_ranges in age_groups.items() for age_range in age_ranges}\n",
    "            return column_data.apply(lambda x: age_group_map.get(x // 10 * 10, 'Unknown'))\n",
    "        else:\n",
    "            return column_data\n",
    "\n",
    "class NZNumberPlateAnonymiser(ColumnAnonymiser):\n",
    "    def anonymise(self, column_data):\n",
    "        # Implement New Zealand number plate anonymisation logic according to the target policy\n",
    "        if self.target_policy == 'faker_vehicle_number_plate':\n",
    "            return column_data.apply(lambda x: f'XXX-{str(x)[-3:]}') # anonymises by replacing the last three digits with XXX\n",
    "        \n",
    "        else:\n",
    "            return column_data\n"
   ]
  },
  {
   "cell_type": "code",
   "execution_count": 12,
   "metadata": {
    "application/vnd.databricks.v1+cell": {
     "cellMetadata": {},
     "inputWidgets": {},
     "nuid": "ad331265-51da-4fe7-b549-191b3763aa6f",
     "showTitle": false,
     "title": ""
    }
   },
   "outputs": [
    {
     "data": {
      "text/html": [
       "<div>\n",
       "<style scoped>\n",
       "    .dataframe tbody tr th:only-of-type {\n",
       "        vertical-align: middle;\n",
       "    }\n",
       "\n",
       "    .dataframe tbody tr th {\n",
       "        vertical-align: top;\n",
       "    }\n",
       "\n",
       "    .dataframe thead th {\n",
       "        text-align: right;\n",
       "    }\n",
       "</style>\n",
       "<table border=\"1\" class=\"dataframe\">\n",
       "  <thead>\n",
       "    <tr style=\"text-align: right;\">\n",
       "      <th></th>\n",
       "      <th>Name</th>\n",
       "      <th>CarMake</th>\n",
       "      <th>CarModel</th>\n",
       "      <th>Year</th>\n",
       "      <th>NumberPlate</th>\n",
       "      <th>Gender</th>\n",
       "      <th>Age</th>\n",
       "    </tr>\n",
       "  </thead>\n",
       "  <tbody>\n",
       "    <tr>\n",
       "      <th>0</th>\n",
       "      <td>John Smith</td>\n",
       "      <td>Toyota</td>\n",
       "      <td>Corolla</td>\n",
       "      <td>2017</td>\n",
       "      <td>ABC-1234</td>\n",
       "      <td>Male</td>\n",
       "      <td>25-44</td>\n",
       "    </tr>\n",
       "    <tr>\n",
       "      <th>1</th>\n",
       "      <td>Jane Doe</td>\n",
       "      <td>Honda</td>\n",
       "      <td>Civic</td>\n",
       "      <td>2019</td>\n",
       "      <td>XYZ-5678</td>\n",
       "      <td>Female</td>\n",
       "      <td>15-24</td>\n",
       "    </tr>\n",
       "    <tr>\n",
       "      <th>2</th>\n",
       "      <td>Michael Johnson</td>\n",
       "      <td>Ford</td>\n",
       "      <td>Focus</td>\n",
       "      <td>2018</td>\n",
       "      <td>JKL-4321</td>\n",
       "      <td>Male</td>\n",
       "      <td>25-44</td>\n",
       "    </tr>\n",
       "    <tr>\n",
       "      <th>3</th>\n",
       "      <td>Emily Brown</td>\n",
       "      <td>Nissan</td>\n",
       "      <td>Altima</td>\n",
       "      <td>2016</td>\n",
       "      <td>MNO-9876</td>\n",
       "      <td>Female</td>\n",
       "      <td>25-44</td>\n",
       "    </tr>\n",
       "    <tr>\n",
       "      <th>4</th>\n",
       "      <td>Daniel Davis</td>\n",
       "      <td>Chevrolet</td>\n",
       "      <td>Impala</td>\n",
       "      <td>2020</td>\n",
       "      <td>PQR-6543</td>\n",
       "      <td>Male</td>\n",
       "      <td>45-64</td>\n",
       "    </tr>\n",
       "  </tbody>\n",
       "</table>\n",
       "</div>"
      ],
      "text/plain": [
       "              Name    CarMake CarModel  Year NumberPlate  Gender    Age\n",
       "0       John Smith     Toyota  Corolla  2017    ABC-1234    Male  25-44\n",
       "1         Jane Doe      Honda    Civic  2019    XYZ-5678  Female  15-24\n",
       "2  Michael Johnson       Ford    Focus  2018    JKL-4321    Male  25-44\n",
       "3      Emily Brown     Nissan   Altima  2016    MNO-9876  Female  25-44\n",
       "4     Daniel Davis  Chevrolet   Impala  2020    PQR-6543    Male  45-64"
      ]
     },
     "execution_count": 12,
     "metadata": {},
     "output_type": "execute_result"
    }
   ],
   "source": [
    "import pandas as pd\n",
    "from faker import Faker\n",
    "from faker_vehicle import VehicleProvider\n",
    "\n",
    "# new df \n",
    "df = pd.read_csv('mvr_synthetic_data.csv')\n",
    "\n",
    "# Create a fake dataframe\n",
    "fake = Faker()\n",
    "vehicle_provider = VehicleProvider(fake)\n",
    "\n",
    "# Anonymise the Age and NumberPlate columns\n",
    "age_anonymiser = AgeAnonymiser(column_data_type='age', target_policy='age_group')\n",
    "df['Age'] = age_anonymiser.anonymise(df['Age'])\n",
    "\n",
    "number_plate_anonymiser = NZNumberPlateAnonymiser(column_data_type='number_plate', target_policy='last_three_digits')\n",
    "df['NumberPlate'] = number_plate_anonymiser.anonymise(df['NumberPlate'])\n",
    "\n",
    "df.head()\n"
   ]
  },
  {
   "cell_type": "code",
   "execution_count": 0,
   "metadata": {
    "application/vnd.databricks.v1+cell": {
     "cellMetadata": {},
     "inputWidgets": {},
     "nuid": "c069d9be-407e-4a1e-b68e-445b22c068f6",
     "showTitle": false,
     "title": ""
    }
   },
   "outputs": [],
   "source": []
  },
  {
   "cell_type": "markdown",
   "metadata": {
    "application/vnd.databricks.v1+cell": {
     "cellMetadata": {},
     "inputWidgets": {},
     "nuid": "4526975a-576c-424d-b826-73a5d48364b4",
     "showTitle": false,
     "title": ""
    }
   },
   "source": [
    "# Mondrian algorithm"
   ]
  },
  {
   "cell_type": "code",
   "execution_count": 0,
   "metadata": {
    "application/vnd.databricks.v1+cell": {
     "cellMetadata": {},
     "inputWidgets": {},
     "nuid": "1ebe91a5-fc84-45ba-8064-c4c901089467",
     "showTitle": false,
     "title": ""
    }
   },
   "outputs": [],
   "source": [
    "import pandas as pd\n",
    "import numpy as np\n",
    "\n",
    "class Mondrian:\n",
    "\n",
    "    def __init__(self, data, k, categorical_cols):\n",
    "        self.data = data\n",
    "        self.k = k\n",
    "        self.categorical_cols = categorical_cols\n",
    "\n",
    "    def get_split_val(self, data, column):\n",
    "        if column in self.categorical_cols:\n",
    "            return data[column].value_counts().idxmax()\n",
    "        else:\n",
    "            return data[column].median()\n",
    "\n",
    "    def partition(self, data):\n",
    "        if len(data) < self.k:\n",
    "            return [data]\n",
    "\n",
    "        # Calculate the range of each column to find the one with the largest range\n",
    "        ranges = data.select_dtypes(include=[np.number]).max() - data.select_dtypes(include=[np.number]).min()\n",
    "        split_column = ranges.idxmax()\n",
    "\n",
    "        # Find split value and create partitions\n",
    "        split_val = self.get_split_val(data, split_column)\n",
    "        data_low = data[data[split_column] <= split_val]\n",
    "        data_high = data[data[split_column] > split_val]\n",
    "\n",
    "        # If partitioning this way does not respect the minimum \"k\" condition, return the original data\n",
    "        if len(data_low) < self.k or len(data_high) < self.k:\n",
    "            return [data]\n",
    "\n",
    "        return self.partition(data_low) + self.partition(data_high)\n",
    "\n",
    "    def anonymize(self):\n",
    "        partitions = self.partition(self.data)\n",
    "        for i in range(len(partitions)):\n",
    "            for col in partitions[i].columns:\n",
    "                if col in self.categorical_cols:\n",
    "                    partitions[i][col] = \"[\" + ', '.join(partitions[i][col].unique().astype(str)) + \"]\"\n",
    "                else:\n",
    "                    partitions[i][col] = \"[{}, {}]\".format(partitions[i][col].min(), partitions[i][col].max())\n",
    "        return pd.concat(partitions)\n",
    "\n",
    "# Test with a small dataset\n",
    "data = pd.DataFrame({\n",
    "    'age': [23, 25, 27, 29, 31, 33, 35, 37, 39, 41],\n",
    "    'salary': [50, 60, 70, 80, 90, 100, 110, 120, 130, 140],\n",
    "    'gender': ['M', 'F', 'M', 'M', 'F', 'F', 'M', 'F', 'M', 'F']\n",
    "})\n",
    "\n",
    "mondrian = Mondrian(data, k=2, categorical_cols=['gender'])\n",
    "anonymized_data = mondrian.anonymize()\n",
    "print(anonymized_data)"
   ]
  },
  {
   "cell_type": "code",
   "execution_count": 0,
   "metadata": {
    "application/vnd.databricks.v1+cell": {
     "cellMetadata": {},
     "inputWidgets": {},
     "nuid": "b7f82b24-65cf-4fef-a128-267edd56c6b4",
     "showTitle": false,
     "title": ""
    }
   },
   "outputs": [],
   "source": []
  },
  {
   "cell_type": "code",
   "execution_count": 0,
   "metadata": {
    "application/vnd.databricks.v1+cell": {
     "cellMetadata": {},
     "inputWidgets": {},
     "nuid": "539e5202-52db-447b-ae20-85f8ab5af59e",
     "showTitle": false,
     "title": ""
    }
   },
   "outputs": [],
   "source": []
  }
 ],
 "metadata": {
  "application/vnd.databricks.v1+notebook": {
   "dashboards": [],
   "language": "python",
   "notebookMetadata": {},
   "notebookName": "mvr_anonymisation",
   "widgets": {}
  },
  "kernelspec": {
   "display_name": "Python 3 (ipykernel)",
   "language": "python",
   "name": "python3"
  },
  "language_info": {
   "codemirror_mode": {
    "name": "ipython",
    "version": 3
   },
   "file_extension": ".py",
   "mimetype": "text/x-python",
   "name": "python",
   "nbconvert_exporter": "python",
   "pygments_lexer": "ipython3",
   "version": "3.9.9"
  }
 },
 "nbformat": 4,
 "nbformat_minor": 1
}
