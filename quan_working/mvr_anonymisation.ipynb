{
 "cells": [
  {
   "cell_type": "markdown",
   "id": "f0143f37-980d-412f-99ad-d8f511811a30",
   "metadata": {
    "tags": []
   },
   "source": [
    "### Step-by-step anonymisation of MVR data"
   ]
  },
  {
   "cell_type": "markdown",
   "id": "2ec62145-d016-43a6-8418-003905156771",
   "metadata": {},
   "source": [
    "#### TODOS:\n",
    "\n",
    "- Hash number plate, look at: https://towardsdatascience.com/anonymise-sensitive-data-in-a-pandas-dataframe-column-with-hashlib-8e7ef397d91f\n",
    "- Apply k-anonymity (e.g., Mondrian) to selected columns, such as Age, Year\n",
    "- Apply Faker on names"
   ]
  },
  {
   "cell_type": "code",
   "execution_count": null,
   "id": "3b5fc912-6973-4211-acdc-2311781008d3",
   "metadata": {},
   "outputs": [],
   "source": []
  },
  {
   "cell_type": "code",
   "execution_count": 1,
   "id": "9f9ccc4f-8bf1-4f1d-a7cf-f029fd0b6c65",
   "metadata": {
    "tags": []
   },
   "outputs": [],
   "source": [
    "import pandas as pd\n",
    "import csv\n",
    "import re\n",
    "\n",
    "from collections import defaultdict"
   ]
  },
  {
   "cell_type": "code",
   "execution_count": 2,
   "id": "ed68617c-cdee-493d-95bd-2079754934e5",
   "metadata": {
    "tags": []
   },
   "outputs": [],
   "source": [
    "df = pd.read_csv('mvr_synthetic_data.csv')"
   ]
  },
  {
   "cell_type": "code",
   "execution_count": 3,
   "id": "4203d3e8-7232-48bc-a2d9-9065a4c77534",
   "metadata": {
    "tags": []
   },
   "outputs": [
    {
     "data": {
      "text/html": [
       "<div>\n",
       "<style scoped>\n",
       "    .dataframe tbody tr th:only-of-type {\n",
       "        vertical-align: middle;\n",
       "    }\n",
       "\n",
       "    .dataframe tbody tr th {\n",
       "        vertical-align: top;\n",
       "    }\n",
       "\n",
       "    .dataframe thead th {\n",
       "        text-align: right;\n",
       "    }\n",
       "</style>\n",
       "<table border=\"1\" class=\"dataframe\">\n",
       "  <thead>\n",
       "    <tr style=\"text-align: right;\">\n",
       "      <th></th>\n",
       "      <th>Name</th>\n",
       "      <th>CarMake</th>\n",
       "      <th>CarModel</th>\n",
       "      <th>Year</th>\n",
       "      <th>NumberPlate</th>\n",
       "      <th>Gender</th>\n",
       "      <th>Age</th>\n",
       "    </tr>\n",
       "  </thead>\n",
       "  <tbody>\n",
       "    <tr>\n",
       "      <th>0</th>\n",
       "      <td>John Smith</td>\n",
       "      <td>Toyota</td>\n",
       "      <td>Corolla</td>\n",
       "      <td>2017</td>\n",
       "      <td>ABC-1234</td>\n",
       "      <td>Male</td>\n",
       "      <td>34</td>\n",
       "    </tr>\n",
       "    <tr>\n",
       "      <th>1</th>\n",
       "      <td>Jane Doe</td>\n",
       "      <td>Honda</td>\n",
       "      <td>Civic</td>\n",
       "      <td>2019</td>\n",
       "      <td>XYZ-5678</td>\n",
       "      <td>Female</td>\n",
       "      <td>28</td>\n",
       "    </tr>\n",
       "    <tr>\n",
       "      <th>2</th>\n",
       "      <td>Michael Johnson</td>\n",
       "      <td>Ford</td>\n",
       "      <td>Focus</td>\n",
       "      <td>2018</td>\n",
       "      <td>JKL-4321</td>\n",
       "      <td>Male</td>\n",
       "      <td>45</td>\n",
       "    </tr>\n",
       "    <tr>\n",
       "      <th>3</th>\n",
       "      <td>Emily Brown</td>\n",
       "      <td>Nissan</td>\n",
       "      <td>Altima</td>\n",
       "      <td>2016</td>\n",
       "      <td>MNO-9876</td>\n",
       "      <td>Female</td>\n",
       "      <td>31</td>\n",
       "    </tr>\n",
       "    <tr>\n",
       "      <th>4</th>\n",
       "      <td>Daniel Davis</td>\n",
       "      <td>Chevrolet</td>\n",
       "      <td>Impala</td>\n",
       "      <td>2020</td>\n",
       "      <td>PQR-6543</td>\n",
       "      <td>Male</td>\n",
       "      <td>52</td>\n",
       "    </tr>\n",
       "  </tbody>\n",
       "</table>\n",
       "</div>"
      ],
      "text/plain": [
       "              Name    CarMake CarModel  Year NumberPlate  Gender  Age\n",
       "0       John Smith     Toyota  Corolla  2017    ABC-1234    Male   34\n",
       "1         Jane Doe      Honda    Civic  2019    XYZ-5678  Female   28\n",
       "2  Michael Johnson       Ford    Focus  2018    JKL-4321    Male   45\n",
       "3      Emily Brown     Nissan   Altima  2016    MNO-9876  Female   31\n",
       "4     Daniel Davis  Chevrolet   Impala  2020    PQR-6543    Male   52"
      ]
     },
     "execution_count": 3,
     "metadata": {},
     "output_type": "execute_result"
    }
   ],
   "source": [
    "df.head()"
   ]
  },
  {
   "cell_type": "code",
   "execution_count": 4,
   "id": "fddc2633-b0fd-4c8b-892e-23aeddaa9f6b",
   "metadata": {
    "tags": []
   },
   "outputs": [
    {
     "name": "stdout",
     "output_type": "stream",
     "text": [
      "XXX-0000\n"
     ]
    }
   ],
   "source": [
    "def anonymise_car_number_plates(text):\n",
    "    def replace_alphabets_numbers(match):\n",
    "        plate = match.group()\n",
    "        anonymized_plate = re.sub(r'[A-Za-z]', 'X', plate)\n",
    "        anonymized_plate = re.sub(r'\\d', '0', anonymized_plate)\n",
    "        return anonymized_plate\n",
    "\n",
    "    # Define the regular expression pattern to match car number plates\n",
    "    number_plate_pattern = r'\\b[A-Za-z]{3}-\\d{4}\\b'\n",
    "\n",
    "    # Replace all occurrences of number plates with the anonymized string\n",
    "    anonymized_text = re.sub(number_plate_pattern, replace_alphabets_numbers, text)\n",
    "\n",
    "    return anonymized_text\n",
    "\n",
    "# Example usage\n",
    "text = \"ABC-1234\"\n",
    "anonymized_text = anonymise_car_number_plates(text)\n",
    "print(anonymized_text)"
   ]
  },
  {
   "cell_type": "code",
   "execution_count": null,
   "id": "3d23cda6-ed00-4113-a723-79516a2a8902",
   "metadata": {},
   "outputs": [],
   "source": []
  },
  {
   "cell_type": "code",
   "execution_count": 5,
   "id": "8ad95182-85ea-4b6f-a022-37a67ce3a32f",
   "metadata": {
    "tags": []
   },
   "outputs": [],
   "source": [
    "df['anonymised_NumberPlate'] = df['NumberPlate'].apply(lambda x: anonymise_car_number_plates(x))"
   ]
  },
  {
   "cell_type": "code",
   "execution_count": 6,
   "id": "68ba1319-b23d-403b-8dab-1ea850004d54",
   "metadata": {
    "tags": []
   },
   "outputs": [
    {
     "data": {
      "text/html": [
       "<div>\n",
       "<style scoped>\n",
       "    .dataframe tbody tr th:only-of-type {\n",
       "        vertical-align: middle;\n",
       "    }\n",
       "\n",
       "    .dataframe tbody tr th {\n",
       "        vertical-align: top;\n",
       "    }\n",
       "\n",
       "    .dataframe thead th {\n",
       "        text-align: right;\n",
       "    }\n",
       "</style>\n",
       "<table border=\"1\" class=\"dataframe\">\n",
       "  <thead>\n",
       "    <tr style=\"text-align: right;\">\n",
       "      <th></th>\n",
       "      <th>Name</th>\n",
       "      <th>CarMake</th>\n",
       "      <th>CarModel</th>\n",
       "      <th>Year</th>\n",
       "      <th>NumberPlate</th>\n",
       "      <th>Gender</th>\n",
       "      <th>Age</th>\n",
       "      <th>anonymised_NumberPlate</th>\n",
       "    </tr>\n",
       "  </thead>\n",
       "  <tbody>\n",
       "    <tr>\n",
       "      <th>0</th>\n",
       "      <td>John Smith</td>\n",
       "      <td>Toyota</td>\n",
       "      <td>Corolla</td>\n",
       "      <td>2017</td>\n",
       "      <td>ABC-1234</td>\n",
       "      <td>Male</td>\n",
       "      <td>34</td>\n",
       "      <td>XXX-0000</td>\n",
       "    </tr>\n",
       "    <tr>\n",
       "      <th>1</th>\n",
       "      <td>Jane Doe</td>\n",
       "      <td>Honda</td>\n",
       "      <td>Civic</td>\n",
       "      <td>2019</td>\n",
       "      <td>XYZ-5678</td>\n",
       "      <td>Female</td>\n",
       "      <td>28</td>\n",
       "      <td>XXX-0000</td>\n",
       "    </tr>\n",
       "    <tr>\n",
       "      <th>2</th>\n",
       "      <td>Michael Johnson</td>\n",
       "      <td>Ford</td>\n",
       "      <td>Focus</td>\n",
       "      <td>2018</td>\n",
       "      <td>JKL-4321</td>\n",
       "      <td>Male</td>\n",
       "      <td>45</td>\n",
       "      <td>XXX-0000</td>\n",
       "    </tr>\n",
       "    <tr>\n",
       "      <th>3</th>\n",
       "      <td>Emily Brown</td>\n",
       "      <td>Nissan</td>\n",
       "      <td>Altima</td>\n",
       "      <td>2016</td>\n",
       "      <td>MNO-9876</td>\n",
       "      <td>Female</td>\n",
       "      <td>31</td>\n",
       "      <td>XXX-0000</td>\n",
       "    </tr>\n",
       "    <tr>\n",
       "      <th>4</th>\n",
       "      <td>Daniel Davis</td>\n",
       "      <td>Chevrolet</td>\n",
       "      <td>Impala</td>\n",
       "      <td>2020</td>\n",
       "      <td>PQR-6543</td>\n",
       "      <td>Male</td>\n",
       "      <td>52</td>\n",
       "      <td>XXX-0000</td>\n",
       "    </tr>\n",
       "  </tbody>\n",
       "</table>\n",
       "</div>"
      ],
      "text/plain": [
       "              Name    CarMake CarModel  Year NumberPlate  Gender  Age   \n",
       "0       John Smith     Toyota  Corolla  2017    ABC-1234    Male   34  \\\n",
       "1         Jane Doe      Honda    Civic  2019    XYZ-5678  Female   28   \n",
       "2  Michael Johnson       Ford    Focus  2018    JKL-4321    Male   45   \n",
       "3      Emily Brown     Nissan   Altima  2016    MNO-9876  Female   31   \n",
       "4     Daniel Davis  Chevrolet   Impala  2020    PQR-6543    Male   52   \n",
       "\n",
       "  anonymised_NumberPlate  \n",
       "0               XXX-0000  \n",
       "1               XXX-0000  \n",
       "2               XXX-0000  \n",
       "3               XXX-0000  \n",
       "4               XXX-0000  "
      ]
     },
     "execution_count": 6,
     "metadata": {},
     "output_type": "execute_result"
    }
   ],
   "source": [
    "df.head()"
   ]
  },
  {
   "cell_type": "code",
   "execution_count": 7,
   "id": "24efa107-6c31-4b27-b6af-8096a62f7e76",
   "metadata": {
    "tags": []
   },
   "outputs": [],
   "source": [
    "def compute_equivalence_classes(df, quasi_identifiers):\n",
    "    eq_classes = defaultdict(int)\n",
    "    \n",
    "    for index, row in df.iterrows():\n",
    "        key = tuple(row[qi] for qi in quasi_identifiers)\n",
    "        eq_classes[key] += 1\n",
    "    \n",
    "    return eq_classes\n",
    "\n",
    "def is_k_anonymous(dataset, quasi_identifiers, k):\n",
    "    eq_classes = compute_equivalence_classes(dataset, quasi_identifiers)\n",
    "    \n",
    "    for count in eq_classes.values():\n",
    "        if count < k:\n",
    "            return False\n",
    "            \n",
    "    return True"
   ]
  },
  {
   "cell_type": "code",
   "execution_count": null,
   "id": "6d2fabdd-98a1-4ab5-b77b-efaa133e65bb",
   "metadata": {},
   "outputs": [],
   "source": []
  },
  {
   "cell_type": "code",
   "execution_count": 8,
   "id": "1ba69735-174b-4038-829f-3ef96eb1c89d",
   "metadata": {
    "tags": []
   },
   "outputs": [
    {
     "name": "stdout",
     "output_type": "stream",
     "text": [
      "The dataset is 5-anonymous: True\n"
     ]
    }
   ],
   "source": [
    "# Define the list of quasi-identifiers\n",
    "# quasi_identifiers = ['CarMake', 'CarModel', 'Year']\n",
    "\n",
    "# quasi_identifiers = ['anonymised_NumberPlate']\n",
    "\n",
    "# quasi_identifiers = ['Age', 'Gender']\n",
    "\n",
    "quasi_identifiers = ['Gender']\n",
    "\n",
    "\n",
    "# Define the k value\n",
    "k = 5\n",
    "\n",
    "# Check if the dataset is k-anonymous\n",
    "k_anonymous = is_k_anonymous(df, quasi_identifiers, k)\n",
    "print(f\"The dataset is {k}-anonymous: {k_anonymous}\")"
   ]
  },
  {
   "cell_type": "code",
   "execution_count": null,
   "id": "88838a46-ffd4-4a1b-914b-d867be2b8f2d",
   "metadata": {},
   "outputs": [],
   "source": []
  },
  {
   "cell_type": "code",
   "execution_count": null,
   "id": "331fa044-a19e-4f86-b243-1447c16f9a8e",
   "metadata": {},
   "outputs": [],
   "source": []
  },
  {
   "cell_type": "code",
   "execution_count": null,
   "id": "21a48d15-9522-4467-b456-f63b9db229ee",
   "metadata": {},
   "outputs": [],
   "source": []
  },
  {
   "cell_type": "code",
   "execution_count": null,
   "id": "db4b7ce5-3709-423f-a6a0-6ec4b9a9ace1",
   "metadata": {},
   "outputs": [],
   "source": []
  },
  {
   "cell_type": "code",
   "execution_count": null,
   "id": "99508d2e-47a6-4131-b9d1-10f8696f108e",
   "metadata": {},
   "outputs": [],
   "source": []
  },
  {
   "cell_type": "code",
   "execution_count": null,
   "id": "eb6e8a59-ad73-44df-ad82-72696a38168d",
   "metadata": {},
   "outputs": [],
   "source": []
  }
 ],
 "metadata": {
  "kernelspec": {
   "display_name": "data-anonymization",
   "language": "python",
   "name": "data-anonymization"
  },
  "language_info": {
   "codemirror_mode": {
    "name": "ipython",
    "version": 3
   },
   "file_extension": ".py",
   "mimetype": "text/x-python",
   "name": "python",
   "nbconvert_exporter": "python",
   "pygments_lexer": "ipython3",
   "version": "3.8.16"
  }
 },
 "nbformat": 4,
 "nbformat_minor": 5
}
